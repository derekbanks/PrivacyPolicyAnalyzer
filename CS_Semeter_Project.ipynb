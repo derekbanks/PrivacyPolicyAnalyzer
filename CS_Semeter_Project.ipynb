{
 "cells": [
  {
   "cell_type": "code",
   "execution_count": 31,
   "metadata": {},
   "outputs": [],
   "source": [
    "import json\n",
    "import urllib.request\n",
    "from io import StringIO\n",
    "from html.parser import HTMLParser\n",
    "import pandas as pd"
   ]
  },
  {
   "cell_type": "code",
   "execution_count": 32,
   "metadata": {
    "tags": []
   },
   "outputs": [
    {
     "output_type": "stream",
     "name": "stdout",
     "text": "error at https://api.usableprivacy.org/websites/?page=1195  index 4\nerror at https://api.usableprivacy.org/websites/?page=1195  index 5\n"
    }
   ],
   "source": [
    "class MLStripper(HTMLParser): #Strips HTML from our downloaded text.  From stackoverflow\n",
    "    def __init__(self):\n",
    "        super().__init__()\n",
    "        self.reset()\n",
    "        self.strict = False\n",
    "        self.convert_charrefs= True\n",
    "        self.text = StringIO()\n",
    "    def handle_data(self, d):\n",
    "        self.text.write(d)\n",
    "    def get_data(self):\n",
    "        return self.text.getvalue()\n",
    "def strip_tags(html): #Strips HTML from our downloaded text.  From stackoverflow\n",
    "    s = MLStripper()\n",
    "    s.feed(html)\n",
    "    return s.get_data()\n",
    "\n",
    "#initialize needed variables\n",
    "policy_list = []\n",
    "policy_dict = {}\n",
    "\n",
    "#make our subset to flag used applications for MSDS as we come across them\n",
    "MSDS_use = ['Slack','Kaltura','Microsoft','Google','Youtube','Trello']\n",
    "MSDS_use_flag = 0\n",
    "\n",
    "#these data points are sometimes empty, override NoneType error\n",
    "#with safety net defaults\n",
    "privacy_stmt_count = 0\n",
    "policy_text = None\n",
    "\n",
    "#real deal starting point\n",
    "#cur_pg = 'https://api.usableprivacy.org/websites/'\n",
    "\n",
    "#movable testing starting point for faster runtime\n",
    "cur_pg = 'https://api.usableprivacy.org/websites/?page=1195'\n",
    "\n",
    "#while loop will continue as long as the page has a 'next' value\n",
    "while cur_pg:  \n",
    "    #pull in our page\n",
    "    load = json.load(urllib.request.urlopen(cur_pg))\n",
    "    \n",
    "    #we have these 6 indicies as a pattern on all our API pages\n",
    "    for i in [0,1,2,3,4,5]:\n",
    "        #use try loop to make sure we keep going and just print out trouble spots in the except\n",
    "        try:\n",
    "            #code MSDS flag as 1 if we've got something\n",
    "            if (load['results'][i]['title'] in MSDS_use):\n",
    "                MSDS_use_flag = 1\n",
    "            \n",
    "            #default to 0 if no privacy statement count if empty\n",
    "            if not(load['results'][i]['num_privacy_statements'][0]):\n",
    "                privacy_stmt_count = 0\n",
    "            else:\n",
    "                privacy_stmt_count = load['results'][i]['num_privacy_statements'][0]\n",
    "            \n",
    "\n",
    "\n",
    "            if not(load[\"results\"][i][\"fine_grained_policy\"]) and load[\"results\"][i][\"scraped_policies\"][0][\"segments\"]:\n",
    "                j = 0\n",
    "                policy_text = \"\"\n",
    "                while load[\"results\"][i][\"scraped_policies\"][0][\"segments\"][j][\"text\"]:\n",
    "                    \n",
    "                    try:\n",
    "                        n = j+1\n",
    "                        load[\"results\"][i][\"scraped_policies\"][0][\"segments\"][n][\"text\"]\n",
    "                        j += 1\n",
    "                    except:\n",
    "                        break\n",
    "\n",
    "            #default to 'No policy text available' if empty\n",
    "            elif not(load[\"results\"][i][\"fine_grained_policy\"]):\n",
    "                policy_text = 'No policy text available'\n",
    "            \n",
    "            \n",
    "            \n",
    "            \n",
    "            #default to 'No policy text available' if empty\n",
    "            # if not(load[\"results\"][i][\"fine_grained_policy\"]):\n",
    "            #     policy_text = 'No policy text available'\n",
    "            else:\n",
    "                policy_text = strip_tags(load['results'][i][\"fine_grained_policy\"][\"text\"])\n",
    "                policy_text = policy_text.replace(\"|\", \"\")\n",
    "                policy_text = \" \".join(policy_text.split()) #strip all the extra white space\n",
    "            \n",
    "            #remove any data points we can't use - unusable word counts\n",
    "            if load['results'][i]['policy_word_count'] > 0:\n",
    "            #fill a holder dictionary with all the needed info\n",
    "                policy_dict = {'Site URL':load['results'][i]['url'], 'Site Title':load['results'][i]['title'],'Policy Word Count':load['results'][i]['policy_word_count'], 'Privacy Statements Count':privacy_stmt_count, 'MSDS Use Flag':MSDS_use_flag, 'API URL':cur_pg, 'Policy Text':policy_text}\n",
    "            \n",
    "            \n",
    "            #add the dictionary to our list\n",
    "            policy_list.append(policy_dict)\n",
    "        \n",
    "        \n",
    "        #let the loop keep going and just print out where failures occur\n",
    "        except:\n",
    "            print(\"error at \" + cur_pg + \"  index \" + str(i))\n",
    "        \n",
    "            #reset our flag for next result\n",
    "            MSDS_use_flag = 0\n",
    "    #after looping through our results, get the next page. If empty, this breaks our while\n",
    "    cur_pg = load['next']"
   ]
  },
  {
   "cell_type": "code",
   "execution_count": 34,
   "metadata": {},
   "outputs": [
    {
     "output_type": "execute_result",
     "data": {
      "text/plain": "            Site URL Site Title  Policy Word Count  Privacy Statements Count  \\\n0            kano.me    kano.me               2810                        24   \n1        petcube.com    Petcube               6379                        62   \n2   www2.meethue.com    Meethue               3021                        26   \n3  www.runtastic.com  Runtastic               5790                        52   \n\n   MSDS Use Flag                                            API URL  \\\n0              0  https://api.usableprivacy.org/websites/?page=1195   \n1              0  https://api.usableprivacy.org/websites/?page=1195   \n2              0  https://api.usableprivacy.org/websites/?page=1195   \n3              0  https://api.usableprivacy.org/websites/?page=1195   \n\n  Policy Text  \n0              \n1              \n2              \n3              ",
      "text/html": "<div>\n<style scoped>\n    .dataframe tbody tr th:only-of-type {\n        vertical-align: middle;\n    }\n\n    .dataframe tbody tr th {\n        vertical-align: top;\n    }\n\n    .dataframe thead th {\n        text-align: right;\n    }\n</style>\n<table border=\"1\" class=\"dataframe\">\n  <thead>\n    <tr style=\"text-align: right;\">\n      <th></th>\n      <th>Site URL</th>\n      <th>Site Title</th>\n      <th>Policy Word Count</th>\n      <th>Privacy Statements Count</th>\n      <th>MSDS Use Flag</th>\n      <th>API URL</th>\n      <th>Policy Text</th>\n    </tr>\n  </thead>\n  <tbody>\n    <tr>\n      <th>0</th>\n      <td>kano.me</td>\n      <td>kano.me</td>\n      <td>2810</td>\n      <td>24</td>\n      <td>0</td>\n      <td>https://api.usableprivacy.org/websites/?page=1195</td>\n      <td></td>\n    </tr>\n    <tr>\n      <th>1</th>\n      <td>petcube.com</td>\n      <td>Petcube</td>\n      <td>6379</td>\n      <td>62</td>\n      <td>0</td>\n      <td>https://api.usableprivacy.org/websites/?page=1195</td>\n      <td></td>\n    </tr>\n    <tr>\n      <th>2</th>\n      <td>www2.meethue.com</td>\n      <td>Meethue</td>\n      <td>3021</td>\n      <td>26</td>\n      <td>0</td>\n      <td>https://api.usableprivacy.org/websites/?page=1195</td>\n      <td></td>\n    </tr>\n    <tr>\n      <th>3</th>\n      <td>www.runtastic.com</td>\n      <td>Runtastic</td>\n      <td>5790</td>\n      <td>52</td>\n      <td>0</td>\n      <td>https://api.usableprivacy.org/websites/?page=1195</td>\n      <td></td>\n    </tr>\n  </tbody>\n</table>\n</div>"
     },
     "metadata": {},
     "execution_count": 34
    }
   ],
   "source": [
    "#with our complete list, convert it into a dataframe\n",
    "policy_df = pd.DataFrame(policy_list)\n",
    "#dump into a csv\n",
    "#policy_df.to_csv('privacy policies.csv')\n",
    "\n",
    "#take a look at the data, print out first five rows of dataframe\n",
    "policy_df.head()\n",
    "\n",
    "# #my Spyder won't give me all the columns (just returns a ... inbetween the first and last) so I print out subsets here\n",
    "# policy_df.iloc[:,0:2].tail()\n",
    "# policy_df.iloc[:,2:4].tail()\n",
    "# policy_df.iloc[:,4:6].tail()"
   ]
  },
  {
   "cell_type": "code",
   "execution_count": null,
   "metadata": {},
   "outputs": [],
   "source": [
    "\n",
    "#print out last five rows of data frame\n",
    "policy_df.tail()"
   ]
  },
  {
   "cell_type": "code",
   "execution_count": 61,
   "metadata": {},
   "outputs": [],
   "source": [
    "#store some basic global properties of our dataframe\n",
    "total_count = len(policy_df)"
   ]
  },
  {
   "cell_type": "code",
   "execution_count": 43,
   "metadata": {},
   "outputs": [
    {
     "output_type": "execute_result",
     "data": {
      "text/plain": "            Site URL Site Title  Policy Word Count  Privacy Statements Count  \\\n0            kano.me    kano.me               2810                        24   \n1        petcube.com    Petcube               6379                        62   \n2   www2.meethue.com    Meethue               3021                        26   \n3  www.runtastic.com  Runtastic               5790                        52   \n\n   MSDS Use Flag                                            API URL  \\\n0              0  https://api.usableprivacy.org/websites/?page=1195   \n1              0  https://api.usableprivacy.org/websites/?page=1195   \n2              0  https://api.usableprivacy.org/websites/?page=1195   \n3              0  https://api.usableprivacy.org/websites/?page=1195   \n\n  Policy Text  Read Time(min)  \n0                       11.71  \n1                       26.58  \n2                       12.59  \n3                       24.12  ",
      "text/html": "<div>\n<style scoped>\n    .dataframe tbody tr th:only-of-type {\n        vertical-align: middle;\n    }\n\n    .dataframe tbody tr th {\n        vertical-align: top;\n    }\n\n    .dataframe thead th {\n        text-align: right;\n    }\n</style>\n<table border=\"1\" class=\"dataframe\">\n  <thead>\n    <tr style=\"text-align: right;\">\n      <th></th>\n      <th>Site URL</th>\n      <th>Site Title</th>\n      <th>Policy Word Count</th>\n      <th>Privacy Statements Count</th>\n      <th>MSDS Use Flag</th>\n      <th>API URL</th>\n      <th>Policy Text</th>\n      <th>Read Time(min)</th>\n    </tr>\n  </thead>\n  <tbody>\n    <tr>\n      <th>0</th>\n      <td>kano.me</td>\n      <td>kano.me</td>\n      <td>2810</td>\n      <td>24</td>\n      <td>0</td>\n      <td>https://api.usableprivacy.org/websites/?page=1195</td>\n      <td></td>\n      <td>11.71</td>\n    </tr>\n    <tr>\n      <th>1</th>\n      <td>petcube.com</td>\n      <td>Petcube</td>\n      <td>6379</td>\n      <td>62</td>\n      <td>0</td>\n      <td>https://api.usableprivacy.org/websites/?page=1195</td>\n      <td></td>\n      <td>26.58</td>\n    </tr>\n    <tr>\n      <th>2</th>\n      <td>www2.meethue.com</td>\n      <td>Meethue</td>\n      <td>3021</td>\n      <td>26</td>\n      <td>0</td>\n      <td>https://api.usableprivacy.org/websites/?page=1195</td>\n      <td></td>\n      <td>12.59</td>\n    </tr>\n    <tr>\n      <th>3</th>\n      <td>www.runtastic.com</td>\n      <td>Runtastic</td>\n      <td>5790</td>\n      <td>52</td>\n      <td>0</td>\n      <td>https://api.usableprivacy.org/websites/?page=1195</td>\n      <td></td>\n      <td>24.12</td>\n    </tr>\n  </tbody>\n</table>\n</div>"
     },
     "metadata": {},
     "execution_count": 43
    }
   ],
   "source": [
    "#now with all our data downloaded, we clean up and do some data transformations\n",
    "\n",
    "#create new calculated column for the estimated read time based on average reading words per minute\n",
    "policy_df['Read Time(min)'] = round(policy_df['Policy Word Count']/240,2) #average wpm is 240\n",
    "\n",
    "#check out new column\n",
    "policy_df.head()"
   ]
  },
  {
   "cell_type": "code",
   "execution_count": 63,
   "metadata": {},
   "outputs": [
    {
     "output_type": "execute_result",
     "data": {
      "text/plain": "0"
     },
     "metadata": {},
     "execution_count": 63
    }
   ],
   "source": [
    "#how many policies take longer than 10 minutes to read\n",
    "len(policy_df[(policy_df['Read Time(min)']>10)])\n",
    "\n",
    "#how many policies take longer than 10 minutes to read\n",
    "len(policy_df[(policy_df['Read Time(min)']>30)])\n",
    "\n",
    "#how many policies take longer than 10 minutes to read\n",
    "len(policy_df[(policy_df['Read Time(min)']>145)])"
   ]
  },
  {
   "cell_type": "code",
   "execution_count": 49,
   "metadata": {},
   "outputs": [
    {
     "output_type": "execute_result",
     "data": {
      "text/plain": "Empty DataFrame\nColumns: [Site URL, Site Title, Policy Word Count, Privacy Statements Count, MSDS Use Flag, API URL, Policy Text, Read Time(min)]\nIndex: []",
      "text/html": "<div>\n<style scoped>\n    .dataframe tbody tr th:only-of-type {\n        vertical-align: middle;\n    }\n\n    .dataframe tbody tr th {\n        vertical-align: top;\n    }\n\n    .dataframe thead th {\n        text-align: right;\n    }\n</style>\n<table border=\"1\" class=\"dataframe\">\n  <thead>\n    <tr style=\"text-align: right;\">\n      <th></th>\n      <th>Site URL</th>\n      <th>Site Title</th>\n      <th>Policy Word Count</th>\n      <th>Privacy Statements Count</th>\n      <th>MSDS Use Flag</th>\n      <th>API URL</th>\n      <th>Policy Text</th>\n      <th>Read Time(min)</th>\n    </tr>\n  </thead>\n  <tbody>\n  </tbody>\n</table>\n</div>"
     },
     "metadata": {},
     "execution_count": 49
    }
   ],
   "source": [
    "#which policies are required for our MSDS program\n",
    "policy_df[(policy_df['MSDS Use Flag']==1)]\n"
   ]
  },
  {
   "cell_type": "code",
   "execution_count": 54,
   "metadata": {},
   "outputs": [
    {
     "output_type": "execute_result",
     "data": {
      "text/plain": "0"
     },
     "metadata": {},
     "execution_count": 54
    }
   ],
   "source": [
    "#how many minutes would it take to read all the policies required for the MSDS program\n",
    "sum(policy_df[(policy_df['MSDS Use Flag']==1)]['Read Time(min)'])"
   ]
  },
  {
   "cell_type": "code",
   "execution_count": 64,
   "metadata": {
    "tags": []
   },
   "outputs": [
    {
     "output_type": "stream",
     "name": "stdout",
     "text": "There are 4 policies which take the average person at least 5.0 minutes to read\nThe percentage of policies exceeding this time limit is 1.0%.\n"
    }
   ],
   "source": [
    "time_limit = float(input(\"How much time are you willing to spend reading a privacy policy? Input a time limit in minutes and find out the percentage of policies exceeding it! Input 0 to skip\"))\n",
    "if time_limit > 0:\n",
    "    policy_count = len(policy_df[(policy_df['Read Time(min)']>time_limit)])\n",
    "    print(\"There are {} policies which take the average person at least {} minutes to read\".format(policy_count,time_limit))\n",
    "    print(\"The percentage of all policies exceeding this time limit is {}%.\".format(policy_count/total_count))"
   ]
  },
  {
   "cell_type": "code",
   "execution_count": null,
   "metadata": {},
   "outputs": [],
   "source": []
  }
 ],
 "metadata": {
  "kernelspec": {
   "display_name": "Python 3.8.2 32-bit",
   "language": "python",
   "name": "python_defaultSpec_1594934561102"
  },
  "language_info": {
   "codemirror_mode": {
    "name": "ipython",
    "version": 3
   },
   "file_extension": ".py",
   "mimetype": "text/x-python",
   "name": "python",
   "nbconvert_exporter": "python",
   "pygments_lexer": "ipython3",
   "version": "3.7.6"
  }
 },
 "nbformat": 4,
 "nbformat_minor": 4
}